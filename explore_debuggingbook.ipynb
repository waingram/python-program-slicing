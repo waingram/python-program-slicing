{
 "cells": [
  {
   "cell_type": "markdown",
   "id": "8ee0b69e-73e8-4f74-b76c-b92f1d5d8c51",
   "metadata": {},
   "source": [
    "# Exploring Debugging Book Slicer\n",
    "\n",
    "Andreas Zeller: \"Tracking Failure Origins\". In Andreas Zeller, \"The Debugging Book\", https://www.debuggingbook.org/html/Slicer.html. "
   ]
  },
  {
   "cell_type": "code",
   "execution_count": 1,
   "id": "02764dce-d007-4a26-8e13-e2d9224917fc",
   "metadata": {},
   "outputs": [],
   "source": [
    "from debuggingbook.Slicer import Slicer\n",
    "from debuggingbook.Slicer import *\n",
    "from debuggingbook.bookutils import print_content"
   ]
  },
  {
   "cell_type": "markdown",
   "id": "138aefbf-dbd6-45de-8e6a-5f084d669caa",
   "metadata": {},
   "source": [
    "Define a few test functions. "
   ]
  },
  {
   "cell_type": "code",
   "execution_count": 2,
   "id": "3fcf1d2f-a495-436f-9916-5e0c4e151263",
   "metadata": {},
   "outputs": [],
   "source": [
    "def test1(param):\n",
    "    n = param\n",
    "    i = 1\n",
    "    sum = 0\n",
    "    prod = 1 \n",
    "    while i <= n:\n",
    "        sum = sum + i\n",
    "        prod = prod * i\n",
    "        i = i + 1\n",
    "    print(sum)\n",
    "    print(prod)"
   ]
  },
  {
   "cell_type": "code",
   "execution_count": 3,
   "id": "f94d824e-ebed-49c0-87ac-91ed0d7d182d",
   "metadata": {},
   "outputs": [],
   "source": [
    "def test2(param):\n",
    "    n = param \n",
    "    arr = [-4, 3, 2]\n",
    "    i = 1\n",
    "    z = 0\n",
    "    while i <= n:\n",
    "        x = arr[i-1]\n",
    "        if x < 0:\n",
    "            y = x + 1\n",
    "        else:\n",
    "            y = x + 2\n",
    "        z = y\n",
    "        i = i + 1\n",
    "    print(z)"
   ]
  },
  {
   "cell_type": "code",
   "execution_count": 4,
   "id": "934da797-464f-47ab-b4c2-8ce1a2a8fc91",
   "metadata": {},
   "outputs": [],
   "source": [
    "def test3(param):\n",
    "    n = param\n",
    "    if n > 1:\n",
    "        n = 11\n",
    "    else:\n",
    "        n = 12\n",
    "    print(n)"
   ]
  },
  {
   "cell_type": "code",
   "execution_count": 5,
   "id": "194f09ad-ca8f-4103-9289-efc64eedf9f4",
   "metadata": {},
   "outputs": [
    {
     "name": "stdout",
     "output_type": "stream",
     "text": [
      "Instrumenting <function test1 at 0x7fb898912b80>\n",
      "\u001b[34mdef\u001b[39;49;00m \u001b[32mtest1\u001b[39;49;00m(param):\n",
      "    _data.param(\u001b[33m'\u001b[39;49;00m\u001b[33mparam\u001b[39;49;00m\u001b[33m'\u001b[39;49;00m, param, pos=\u001b[34m1\u001b[39;49;00m, last=\u001b[34mTrue\u001b[39;49;00m)\n",
      "    n = _data.set(\u001b[33m'\u001b[39;49;00m\u001b[33mn\u001b[39;49;00m\u001b[33m'\u001b[39;49;00m, _data.get(\u001b[33m'\u001b[39;49;00m\u001b[33mparam\u001b[39;49;00m\u001b[33m'\u001b[39;49;00m, param))\n",
      "    i = _data.set(\u001b[33m'\u001b[39;49;00m\u001b[33mi\u001b[39;49;00m\u001b[33m'\u001b[39;49;00m, \u001b[34m1\u001b[39;49;00m)\n",
      "    \u001b[36msum\u001b[39;49;00m = _data.set(\u001b[33m'\u001b[39;49;00m\u001b[33msum\u001b[39;49;00m\u001b[33m'\u001b[39;49;00m, \u001b[34m0\u001b[39;49;00m)\n",
      "    prod = _data.set(\u001b[33m'\u001b[39;49;00m\u001b[33mprod\u001b[39;49;00m\u001b[33m'\u001b[39;49;00m, \u001b[34m1\u001b[39;49;00m)\n",
      "    \u001b[34mwhile\u001b[39;49;00m _data.test(_data.get(\u001b[33m'\u001b[39;49;00m\u001b[33mi\u001b[39;49;00m\u001b[33m'\u001b[39;49;00m, i) <= _data.get(\u001b[33m'\u001b[39;49;00m\u001b[33mn\u001b[39;49;00m\u001b[33m'\u001b[39;49;00m, n)):\n",
      "        \u001b[34mwith\u001b[39;49;00m _data:\n",
      "            \u001b[36msum\u001b[39;49;00m = _data.set(\u001b[33m'\u001b[39;49;00m\u001b[33msum\u001b[39;49;00m\u001b[33m'\u001b[39;49;00m, _data.get(\u001b[33m'\u001b[39;49;00m\u001b[33msum\u001b[39;49;00m\u001b[33m'\u001b[39;49;00m, \u001b[36msum\u001b[39;49;00m) + _data.get(\u001b[33m'\u001b[39;49;00m\u001b[33mi\u001b[39;49;00m\u001b[33m'\u001b[39;49;00m, i))\n",
      "            prod = _data.set(\u001b[33m'\u001b[39;49;00m\u001b[33mprod\u001b[39;49;00m\u001b[33m'\u001b[39;49;00m, _data.get(\u001b[33m'\u001b[39;49;00m\u001b[33mprod\u001b[39;49;00m\u001b[33m'\u001b[39;49;00m, prod) * _data.get(\u001b[33m'\u001b[39;49;00m\u001b[33mi\u001b[39;49;00m\u001b[33m'\u001b[39;49;00m, i))\n",
      "            i = _data.set(\u001b[33m'\u001b[39;49;00m\u001b[33mi\u001b[39;49;00m\u001b[33m'\u001b[39;49;00m, _data.get(\u001b[33m'\u001b[39;49;00m\u001b[33mi\u001b[39;49;00m\u001b[33m'\u001b[39;49;00m, i) + \u001b[34m1\u001b[39;49;00m)\n",
      "    _data.ret(_data.call(_data.get(\u001b[33m'\u001b[39;49;00m\u001b[33mprint\u001b[39;49;00m\u001b[33m'\u001b[39;49;00m, \u001b[36mprint\u001b[39;49;00m))(_data.arg(_data.get(\u001b[33m'\u001b[39;49;00m\u001b[33msum\u001b[39;49;00m\u001b[33m'\u001b[39;49;00m, \u001b[36msum\u001b[39;49;00m), pos=\u001b[34m1\u001b[39;49;00m)))\n",
      "    _data.ret(_data.call(_data.get(\u001b[33m'\u001b[39;49;00m\u001b[33mprint\u001b[39;49;00m\u001b[33m'\u001b[39;49;00m, \u001b[36mprint\u001b[39;49;00m))(_data.arg(_data.get(\u001b[33m'\u001b[39;49;00m\u001b[33mprod\u001b[39;49;00m\u001b[33m'\u001b[39;49;00m, prod), pos=\u001b[34m1\u001b[39;49;00m)))\n",
      "\n",
      "3\n",
      "2\n"
     ]
    }
   ],
   "source": [
    "with Slicer(log=True) as slicer:\n",
    "    test1(2)"
   ]
  },
  {
   "cell_type": "code",
   "execution_count": 6,
   "id": "4922b863-63a5-46d8-a9c0-feef659d1393",
   "metadata": {},
   "outputs": [
    {
     "name": "stdout",
     "output_type": "stream",
     "text": [
      "*    1 \u001b[34mdef\u001b[39;49;00m \u001b[32mtest1\u001b[39;49;00m(param):\n",
      "*    2     n = param  \u001b[37m# <= param (1)\u001b[39;49;00m\n",
      "*    3     i = \u001b[34m1\u001b[39;49;00m\n",
      "*    4     \u001b[36msum\u001b[39;49;00m = \u001b[34m0\u001b[39;49;00m\n",
      "*    5     prod = \u001b[34m1\u001b[39;49;00m\n",
      "*    6     \u001b[34mwhile\u001b[39;49;00m i <= n:  \u001b[37m# <= i (9), i (3), n (2)\u001b[39;49;00m\n",
      "*    7         \u001b[36msum\u001b[39;49;00m = \u001b[36msum\u001b[39;49;00m + i  \u001b[37m# <= sum (7), sum (4), i (9), i (3); <- <test> (6)\u001b[39;49;00m\n",
      "*    8         prod = prod * i  \u001b[37m# <= i (9), prod (5), i (3), prod (8); <- <test> (6)\u001b[39;49;00m\n",
      "*    9         i = i + \u001b[34m1\u001b[39;49;00m  \u001b[37m# <= i (9), i (3); <- <test> (6)\u001b[39;49;00m\n",
      "    10     \u001b[36mprint\u001b[39;49;00m(\u001b[36msum\u001b[39;49;00m)\n",
      "    11     \u001b[36mprint\u001b[39;49;00m(prod)\n"
     ]
    }
   ],
   "source": [
    "slicer.code()"
   ]
  },
  {
   "cell_type": "code",
   "execution_count": 7,
   "id": "7611d8ac-39af-48be-8b80-a70e32316ecb",
   "metadata": {},
   "outputs": [
    {
     "name": "stdout",
     "output_type": "stream",
     "text": [
      " 1  \u001b[34mdef\u001b[39;49;00m \u001b[32mtest1\u001b[39;49;00m(param):\n",
      " 2      n = param\n",
      " 3      i = \u001b[34m1\u001b[39;49;00m\n",
      " 4      \u001b[36msum\u001b[39;49;00m = \u001b[34m0\u001b[39;49;00m\n",
      " 5      prod = \u001b[34m1\u001b[39;49;00m \n",
      " 6      \u001b[34mwhile\u001b[39;49;00m i <= n:\n",
      " 7          \u001b[36msum\u001b[39;49;00m = \u001b[36msum\u001b[39;49;00m + i\n",
      " 8          prod = prod * i\n",
      " 9          i = i + \u001b[34m1\u001b[39;49;00m\n",
      "10      \u001b[36mprint\u001b[39;49;00m(\u001b[36msum\u001b[39;49;00m)\n",
      "11      \u001b[36mprint\u001b[39;49;00m(prod)"
     ]
    }
   ],
   "source": [
    "print_content(inspect.getsource(test1), '.py', start_line_number=1)"
   ]
  },
  {
   "cell_type": "code",
   "execution_count": 8,
   "id": "fa1139f5-72b8-475a-a367-013494f1ee1f",
   "metadata": {},
   "outputs": [
    {
     "name": "stdout",
     "output_type": "stream",
     "text": [
      "1\n",
      "1\n"
     ]
    }
   ],
   "source": [
    "test1_tree = ast.parse(inspect.getsource(test1))\n",
    "\n",
    "with DataTrackerTester(test1_tree, test1):\n",
    "    test1(1)\n"
   ]
  },
  {
   "cell_type": "code",
   "execution_count": 9,
   "id": "37b29f92-84d6-437d-be65-f54f93a40330",
   "metadata": {},
   "outputs": [
    {
     "name": "stdout",
     "output_type": "stream",
     "text": [
      "3\n",
      "2\n"
     ]
    },
    {
     "data": {
      "image/svg+xml": [
       "<?xml version=\"1.0\" encoding=\"UTF-8\" standalone=\"no\"?>\n",
       "<!DOCTYPE svg PUBLIC \"-//W3C//DTD SVG 1.1//EN\"\n",
       " \"http://www.w3.org/Graphics/SVG/1.1/DTD/svg11.dtd\">\n",
       "<!-- Generated by graphviz version 2.42.3 (20191010.1750)\n",
       " -->\n",
       "<!-- Title: dependencies Pages: 1 -->\n",
       "<svg width=\"8pt\" height=\"8pt\"\n",
       " viewBox=\"0.00 0.00 8.00 8.00\" xmlns=\"http://www.w3.org/2000/svg\" xmlns:xlink=\"http://www.w3.org/1999/xlink\">\n",
       "<g id=\"graph0\" class=\"graph\" transform=\"scale(1 1) rotate(0) translate(4 4)\">\n",
       "<title>dependencies</title>\n",
       "<polygon fill=\"white\" stroke=\"transparent\" points=\"-4,4 -4,-4 4,-4 4,4 -4,4\"/>\n",
       "</g>\n",
       "</svg>\n"
      ],
      "text/plain": [
       "Dependencies(\n",
       "    data={\n",
       "        },\n",
       " control={\n",
       "        })"
      ]
     },
     "execution_count": 9,
     "metadata": {},
     "output_type": "execute_result"
    }
   ],
   "source": [
    "with DependencyTrackerTester(test1_tree, test1) as call_deps:\n",
    "    test1(2)\n",
    "    \n",
    "call_deps.dependencies()"
   ]
  }
 ],
 "metadata": {
  "kernelspec": {
   "display_name": "Python 3 (ipykernel)",
   "language": "python",
   "name": "python3"
  },
  "language_info": {
   "codemirror_mode": {
    "name": "ipython",
    "version": 3
   },
   "file_extension": ".py",
   "mimetype": "text/x-python",
   "name": "python",
   "nbconvert_exporter": "python",
   "pygments_lexer": "ipython3",
   "version": "3.9.7"
  }
 },
 "nbformat": 4,
 "nbformat_minor": 5
}
