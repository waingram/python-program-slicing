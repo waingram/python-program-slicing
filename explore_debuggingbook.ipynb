{
 "cells": [
  {
   "cell_type": "markdown",
   "id": "8ee0b69e-73e8-4f74-b76c-b92f1d5d8c51",
   "metadata": {},
   "source": [
    "# Exploring Debugging Book Slicer\n",
    "\n",
    "Andreas Zeller: \"Tracking Failure Origins\". In Andreas Zeller, \"The Debugging Book\", https://www.debuggingbook.org/html/Slicer.html. "
   ]
  },
  {
   "cell_type": "code",
   "execution_count": 1,
   "id": "02764dce-d007-4a26-8e13-e2d9224917fc",
   "metadata": {},
   "outputs": [],
   "source": [
    "from debuggingbook.Slicer import Slicer\n",
    "from debuggingbook.Slicer import *\n",
    "from debuggingbook.bookutils import print_content"
   ]
  },
  {
   "cell_type": "markdown",
   "id": "138aefbf-dbd6-45de-8e6a-5f084d669caa",
   "metadata": {},
   "source": [
    "Define a few test functions. "
   ]
  },
  {
   "cell_type": "code",
   "execution_count": 2,
   "id": "f94d824e-ebed-49c0-87ac-91ed0d7d182d",
   "metadata": {},
   "outputs": [],
   "source": [
    "def test2(param):\n",
    "    n = param \n",
    "    arr = [-4, 3, 2]\n",
    "    i = 1\n",
    "    z = 0\n",
    "    while i <= n:\n",
    "        x = arr[i-1]\n",
    "        if x < 0:\n",
    "            y = x + 1\n",
    "        else:\n",
    "            y = x + 2\n",
    "        z = y\n",
    "        i = i + 1\n",
    "    print(z)"
   ]
  },
  {
   "cell_type": "code",
   "execution_count": 3,
   "id": "3fcf1d2f-a495-436f-9916-5e0c4e151263",
   "metadata": {},
   "outputs": [],
   "source": [
    "def test1(param):\n",
    "    n = param\n",
    "    i = 1\n",
    "    sum = 0\n",
    "    prod = 1 \n",
    "    while i <= n:\n",
    "        sum = sum + i\n",
    "        prod = prod * i\n",
    "        i = i + 1\n",
    "    print(sum)\n",
    "    print(prod)\n",
    "    p = test2(n)"
   ]
  },
  {
   "cell_type": "code",
   "execution_count": 4,
   "id": "934da797-464f-47ab-b4c2-8ce1a2a8fc91",
   "metadata": {},
   "outputs": [],
   "source": [
    "def test3(param):\n",
    "    n = param\n",
    "    if n > 1:\n",
    "        n = 11\n",
    "    else:\n",
    "        n = 12\n",
    "    print(n)"
   ]
  },
  {
   "cell_type": "code",
   "execution_count": 59,
   "id": "dd1d7bf4-1624-4fc1-8d76-aee06124178b",
   "metadata": {},
   "outputs": [],
   "source": [
    "def fact(n):\n",
    "    if n == 1:\n",
    "        ret = n\n",
    "        return ret\n",
    "    else:\n",
    "        return n * fact(n-1)\n"
   ]
  },
  {
   "cell_type": "code",
   "execution_count": 60,
   "id": "194f09ad-ca8f-4103-9289-efc64eedf9f4",
   "metadata": {},
   "outputs": [
    {
     "name": "stdout",
     "output_type": "stream",
     "text": [
      "Instrumenting <function fact at 0x7ff2c0e17430>\n",
      "\u001b[34mdef\u001b[39;49;00m \u001b[32mfact\u001b[39;49;00m(n):\n",
      "    _data.param(\u001b[33m'\u001b[39;49;00m\u001b[33mn\u001b[39;49;00m\u001b[33m'\u001b[39;49;00m, n, pos=\u001b[34m1\u001b[39;49;00m, last=\u001b[34mTrue\u001b[39;49;00m)\n",
      "    \u001b[34mif\u001b[39;49;00m _data.test(_data.get(\u001b[33m'\u001b[39;49;00m\u001b[33mn\u001b[39;49;00m\u001b[33m'\u001b[39;49;00m, n) == \u001b[34m1\u001b[39;49;00m):\n",
      "        \u001b[34mwith\u001b[39;49;00m _data:\n",
      "            ret = _data.set(\u001b[33m'\u001b[39;49;00m\u001b[33mret\u001b[39;49;00m\u001b[33m'\u001b[39;49;00m, _data.get(\u001b[33m'\u001b[39;49;00m\u001b[33mn\u001b[39;49;00m\u001b[33m'\u001b[39;49;00m, n))\n",
      "            \u001b[34mreturn\u001b[39;49;00m _data.set(\u001b[33m'\u001b[39;49;00m\u001b[33m<fact() return value>\u001b[39;49;00m\u001b[33m'\u001b[39;49;00m, _data.get(\u001b[33m'\u001b[39;49;00m\u001b[33mret\u001b[39;49;00m\u001b[33m'\u001b[39;49;00m, ret))\n",
      "    \u001b[34melse\u001b[39;49;00m:\n",
      "        \u001b[34mwith\u001b[39;49;00m _data:\n",
      "            \u001b[34mreturn\u001b[39;49;00m _data.set(\u001b[33m'\u001b[39;49;00m\u001b[33m<fact() return value>\u001b[39;49;00m\u001b[33m'\u001b[39;49;00m, _data.get(\u001b[33m'\u001b[39;49;00m\u001b[33mn\u001b[39;49;00m\u001b[33m'\u001b[39;49;00m, n) * _data.ret(_data.call(_data.get(\u001b[33m'\u001b[39;49;00m\u001b[33mfact\u001b[39;49;00m\u001b[33m'\u001b[39;49;00m, fact))(_data.arg(_data.get(\u001b[33m'\u001b[39;49;00m\u001b[33mn\u001b[39;49;00m\u001b[33m'\u001b[39;49;00m, n) - \u001b[34m1\u001b[39;49;00m, pos=\u001b[34m1\u001b[39;49;00m))))\n",
      "\n"
     ]
    }
   ],
   "source": [
    "with Slicer(fact, log=True) as slicer:\n",
    "    fact(5)"
   ]
  },
  {
   "cell_type": "code",
   "execution_count": 61,
   "id": "4922b863-63a5-46d8-a9c0-feef659d1393",
   "metadata": {},
   "outputs": [
    {
     "name": "stdout",
     "output_type": "stream",
     "text": [
      "*    1 \u001b[34mdef\u001b[39;49;00m \u001b[32mfact\u001b[39;49;00m(n):  \u001b[37m# <= n (1); <- <test> (2)\u001b[39;49;00m\n",
      "*    2     \u001b[34mif\u001b[39;49;00m n == \u001b[34m1\u001b[39;49;00m:  \u001b[37m# <= n (1); <- <test> (2)\u001b[39;49;00m\n",
      "*    3         ret = n  \u001b[37m# <= n (1); <- <test> (2)\u001b[39;49;00m\n",
      "*    4         \u001b[34mreturn\u001b[39;49;00m ret  \u001b[37m# <= ret (3); <- <test> (2)\u001b[39;49;00m\n",
      "     5     \u001b[34melse\u001b[39;49;00m:\n",
      "*    6         \u001b[34mreturn\u001b[39;49;00m n * fact(n-\u001b[34m1\u001b[39;49;00m)  \u001b[37m# <= n (1); <- <test> (2)\u001b[39;49;00m\n"
     ]
    }
   ],
   "source": [
    "slicer.code()"
   ]
  },
  {
   "cell_type": "code",
   "execution_count": 62,
   "id": "47b77d9b-1fa8-4c08-85c1-4586f8c05d9c",
   "metadata": {},
   "outputs": [
    {
     "data": {
      "image/svg+xml": [
       "<?xml version=\"1.0\" encoding=\"UTF-8\" standalone=\"no\"?>\n",
       "<!DOCTYPE svg PUBLIC \"-//W3C//DTD SVG 1.1//EN\"\n",
       " \"http://www.w3.org/Graphics/SVG/1.1/DTD/svg11.dtd\">\n",
       "<!-- Generated by graphviz version 2.42.3 (20191010.1750)\n",
       " -->\n",
       "<!-- Title: dependencies Pages: 1 -->\n",
       "<svg width=\"190pt\" height=\"276pt\"\n",
       " viewBox=\"0.00 0.00 189.54 276.00\" xmlns=\"http://www.w3.org/2000/svg\" xmlns:xlink=\"http://www.w3.org/1999/xlink\">\n",
       "<g id=\"graph0\" class=\"graph\" transform=\"scale(1 1) rotate(0) translate(4 272)\">\n",
       "<title>dependencies</title>\n",
       "<polygon fill=\"white\" stroke=\"transparent\" points=\"-4,4 -4,-272 185.54,-272 185.54,4 -4,4\"/>\n",
       "<!-- ret_functionfactat0x7ff290e64280_3 -->\n",
       "<g id=\"node1\" class=\"node\">\n",
       "<title>ret_functionfactat0x7ff290e64280_3</title>\n",
       "<g id=\"a_node1\"><a xlink:title=\"fact:3\">\n",
       "<polygon fill=\"peachpuff\" stroke=\"black\" points=\"137.51,-116 83.51,-116 83.51,-76 137.51,-76 137.51,-116\"/>\n",
       "<text text-anchor=\"start\" x=\"102.34\" y=\"-101.8\" font-family=\"Fira Mono, Courier, monospace\" font-weight=\"bold\" font-size=\"14.00\">ret</text>\n",
       "<text text-anchor=\"start\" x=\"97.63\" y=\"-82.8\" font-family=\"Fira Mono, Courier, monospace\" font-size=\"9.00\">ret = n</text>\n",
       "</a>\n",
       "</g>\n",
       "</g>\n",
       "<!-- factreturnvalue_functionfactat0x7ff290e64280_4 -->\n",
       "<g id=\"node4\" class=\"node\">\n",
       "<title>factreturnvalue_functionfactat0x7ff290e64280_4</title>\n",
       "<g id=\"a_node4\"><a xlink:title=\"fact:4\">\n",
       "<polygon fill=\"peachpuff\" stroke=\"black\" points=\"181.57,-40 39.45,-40 39.45,0 181.57,0 181.57,-40\"/>\n",
       "<text text-anchor=\"start\" x=\"47.48\" y=\"-25.8\" font-family=\"Fira Mono, Courier, monospace\" font-weight=\"bold\" font-style=\"italic\" font-size=\"14.00\">&lt;fact() return value&gt;</text>\n",
       "<text text-anchor=\"start\" x=\"92.25\" y=\"-6.8\" font-family=\"Fira Mono, Courier, monospace\" font-size=\"9.00\">return ret</text>\n",
       "</a>\n",
       "</g>\n",
       "</g>\n",
       "<!-- ret_functionfactat0x7ff290e64280_3&#45;&gt;factreturnvalue_functionfactat0x7ff290e64280_4 -->\n",
       "<g id=\"edge5\" class=\"edge\">\n",
       "<title>ret_functionfactat0x7ff290e64280_3&#45;&gt;factreturnvalue_functionfactat0x7ff290e64280_4</title>\n",
       "<path fill=\"none\" stroke=\"black\" d=\"M104.52,-75.94C103.8,-68.15 103.59,-58.95 103.89,-50.34\"/>\n",
       "<polygon fill=\"black\" stroke=\"black\" points=\"107.39,-50.44 104.5,-40.25 100.4,-50.02 107.39,-50.44\"/>\n",
       "</g>\n",
       "<!-- ret_functionfactat0x7ff290e64280_3&#45;&gt;factreturnvalue_functionfactat0x7ff290e64280_4 -->\n",
       "<!-- n_functionfactat0x7ff290e64280_1 -->\n",
       "<g id=\"node2\" class=\"node\">\n",
       "<title>n_functionfactat0x7ff290e64280_1</title>\n",
       "<g id=\"a_node2\"><a xlink:title=\"fact:1\">\n",
       "<polygon fill=\"peachpuff\" stroke=\"black\" points=\"59.03,-192 -0.01,-192 -0.01,-152 59.03,-152 59.03,-192\"/>\n",
       "<text text-anchor=\"start\" x=\"25.62\" y=\"-177.8\" font-family=\"Fira Mono, Courier, monospace\" font-weight=\"bold\" font-size=\"14.00\">n</text>\n",
       "<text text-anchor=\"start\" x=\"8\" y=\"-158.8\" font-family=\"Fira Mono, Courier, monospace\" font-size=\"9.00\">def fact(n):</text>\n",
       "</a>\n",
       "</g>\n",
       "</g>\n",
       "<!-- n_functionfactat0x7ff290e64280_1&#45;&gt;ret_functionfactat0x7ff290e64280_3 -->\n",
       "<g id=\"edge1\" class=\"edge\">\n",
       "<title>n_functionfactat0x7ff290e64280_1&#45;&gt;ret_functionfactat0x7ff290e64280_3</title>\n",
       "<path fill=\"none\" stroke=\"black\" d=\"M50.37,-151.94C59.93,-143.21 71.42,-132.71 81.78,-123.24\"/>\n",
       "<polygon fill=\"black\" stroke=\"black\" points=\"84.42,-125.58 89.44,-116.25 79.7,-120.41 84.42,-125.58\"/>\n",
       "</g>\n",
       "<!-- n_functionfactat0x7ff290e64280_1&#45;&gt;n_functionfactat0x7ff290e64280_1 -->\n",
       "<g id=\"edge7\" class=\"edge\">\n",
       "<title>n_functionfactat0x7ff290e64280_1&#45;&gt;n_functionfactat0x7ff290e64280_1</title>\n",
       "<path fill=\"none\" stroke=\"black\" d=\"M59.2,-186.25C69.1,-186.25 77.02,-181.5 77.02,-172 77.02,-166.06 73.93,-161.98 69.19,-159.75\"/>\n",
       "<polygon fill=\"black\" stroke=\"black\" points=\"69.7,-156.29 59.2,-157.75 68.32,-163.15 69.7,-156.29\"/>\n",
       "</g>\n",
       "<!-- test_functionfactat0x7ff290e64280_2 -->\n",
       "<g id=\"node3\" class=\"node\">\n",
       "<title>test_functionfactat0x7ff290e64280_2</title>\n",
       "<g id=\"a_node3\"><a xlink:title=\"fact:2\">\n",
       "<polygon fill=\"peachpuff\" stroke=\"black\" points=\"98.93,-268 44.09,-268 44.09,-228 98.93,-228 98.93,-268\"/>\n",
       "<text text-anchor=\"start\" x=\"52.05\" y=\"-253.8\" font-family=\"Fira Mono, Courier, monospace\" font-weight=\"bold\" font-style=\"italic\" font-size=\"14.00\">&lt;test&gt;</text>\n",
       "<text text-anchor=\"start\" x=\"54\" y=\"-234.8\" font-family=\"Fira Mono, Courier, monospace\" font-size=\"9.00\">if n == 1:</text>\n",
       "</a>\n",
       "</g>\n",
       "</g>\n",
       "<!-- n_functionfactat0x7ff290e64280_1&#45;&gt;test_functionfactat0x7ff290e64280_2 -->\n",
       "<g id=\"edge3\" class=\"edge\">\n",
       "<title>n_functionfactat0x7ff290e64280_1&#45;&gt;test_functionfactat0x7ff290e64280_2</title>\n",
       "<path fill=\"none\" stroke=\"black\" d=\"M40.43,-192.25C45.07,-200.41 50.55,-210.08 55.62,-219.01\"/>\n",
       "<polygon fill=\"black\" stroke=\"black\" points=\"52.71,-220.97 60.69,-227.94 58.8,-217.52 52.71,-220.97\"/>\n",
       "</g>\n",
       "<!-- n_functionfactat0x7ff290e64280_1&#45;&gt;test_functionfactat0x7ff290e64280_2 -->\n",
       "<!-- test_functionfactat0x7ff290e64280_2&#45;&gt;ret_functionfactat0x7ff290e64280_3 -->\n",
       "<g id=\"edge2\" class=\"edge\">\n",
       "<title>test_functionfactat0x7ff290e64280_2&#45;&gt;ret_functionfactat0x7ff290e64280_3</title>\n",
       "<path fill=\"none\" stroke=\"grey\" stroke-dasharray=\"5,2\" d=\"M68.85,-227.93C70.72,-217.36 74.37,-203.97 77.51,-192 83.33,-169.82 89.68,-144.67 95.69,-125.81\"/>\n",
       "<polygon fill=\"grey\" stroke=\"grey\" points=\"99.02,-126.91 98.9,-116.31 92.38,-124.67 99.02,-126.91\"/>\n",
       "</g>\n",
       "<!-- test_functionfactat0x7ff290e64280_2&#45;&gt;ret_functionfactat0x7ff290e64280_3 -->\n",
       "<!-- test_functionfactat0x7ff290e64280_2&#45;&gt;n_functionfactat0x7ff290e64280_1 -->\n",
       "<g id=\"edge8\" class=\"edge\">\n",
       "<title>test_functionfactat0x7ff290e64280_2&#45;&gt;n_functionfactat0x7ff290e64280_1</title>\n",
       "<path fill=\"none\" stroke=\"grey\" stroke-dasharray=\"5,2\" d=\"M48.72,-227.94C42.66,-219.89 36.85,-210.35 32.5,-201.49\"/>\n",
       "<polygon fill=\"grey\" stroke=\"grey\" points=\"35.66,-199.98 28.42,-192.25 29.26,-202.81 35.66,-199.98\"/>\n",
       "</g>\n",
       "<!-- test_functionfactat0x7ff290e64280_2&#45;&gt;test_functionfactat0x7ff290e64280_2 -->\n",
       "<g id=\"edge4\" class=\"edge\">\n",
       "<title>test_functionfactat0x7ff290e64280_2&#45;&gt;test_functionfactat0x7ff290e64280_2</title>\n",
       "<path fill=\"none\" stroke=\"grey\" stroke-dasharray=\"5,2\" d=\"M99.03,-262.24C108.91,-262.54 116.97,-257.8 116.97,-248 116.97,-241.88 113.82,-237.73 109.05,-235.55\"/>\n",
       "<polygon fill=\"grey\" stroke=\"grey\" points=\"109.49,-232.07 99.03,-233.76 108.26,-238.97 109.49,-232.07\"/>\n",
       "</g>\n",
       "<!-- test_functionfactat0x7ff290e64280_2&#45;&gt;factreturnvalue_functionfactat0x7ff290e64280_4 -->\n",
       "<g id=\"edge6\" class=\"edge\">\n",
       "<title>test_functionfactat0x7ff290e64280_2&#45;&gt;factreturnvalue_functionfactat0x7ff290e64280_4</title>\n",
       "<path fill=\"none\" stroke=\"grey\" stroke-dasharray=\"5,2\" d=\"M89.28,-227.64C97.95,-217.53 108.08,-204.65 115.51,-192 133.98,-160.54 139.49,-151.8 146.51,-116 149.93,-98.55 151.59,-93.04 146.51,-76 143.63,-66.34 138.45,-56.8 132.9,-48.45\"/>\n",
       "<polygon fill=\"grey\" stroke=\"grey\" points=\"135.71,-46.35 127.07,-40.21 130,-50.4 135.71,-46.35\"/>\n",
       "</g>\n",
       "</g>\n",
       "</svg>\n"
      ],
      "text/plain": [
       "Dependencies(\n",
       "    data={\n",
       "        ('<fact() return value>', (fact, 4)): {('ret', (fact, 3))},\n",
       "        ('ret', (fact, 3)): {('n', (fact, 1))},\n",
       "        ('<test>', (fact, 2)): {('n', (fact, 1))},\n",
       "        ('n', (fact, 1)): {('n', (fact, 1))}},\n",
       " control={\n",
       "        ('<fact() return value>', (fact, 4)): {('<test>', (fact, 2))},\n",
       "        ('ret', (fact, 3)): {('<test>', (fact, 2))},\n",
       "        ('<test>', (fact, 2)): {('<test>', (fact, 2))},\n",
       "        ('n', (fact, 1)): {('<test>', (fact, 2))}})"
      ]
     },
     "execution_count": 62,
     "metadata": {},
     "output_type": "execute_result"
    }
   ],
   "source": [
    "s = slicer.dependencies().backward_slice((fact, 4))\n",
    "s"
   ]
  },
  {
   "cell_type": "code",
   "execution_count": 63,
   "id": "5e744013-a576-4c91-969a-2cd43ae722be",
   "metadata": {},
   "outputs": [
    {
     "data": {
      "image/svg+xml": [
       "<?xml version=\"1.0\" encoding=\"UTF-8\" standalone=\"no\"?>\n",
       "<!DOCTYPE svg PUBLIC \"-//W3C//DTD SVG 1.1//EN\"\n",
       " \"http://www.w3.org/Graphics/SVG/1.1/DTD/svg11.dtd\">\n",
       "<!-- Generated by graphviz version 2.42.3 (20191010.1750)\n",
       " -->\n",
       "<!-- Title: dependencies Pages: 1 -->\n",
       "<svg width=\"249pt\" height=\"352pt\"\n",
       " viewBox=\"0.00 0.00 249.06 352.00\" xmlns=\"http://www.w3.org/2000/svg\" xmlns:xlink=\"http://www.w3.org/1999/xlink\">\n",
       "<g id=\"graph0\" class=\"graph\" transform=\"scale(1 1) rotate(0) translate(4 348)\">\n",
       "<title>dependencies</title>\n",
       "<polygon fill=\"white\" stroke=\"transparent\" points=\"-4,4 -4,-348 245.06,-348 245.06,4 -4,4\"/>\n",
       "<!-- factreturnvalue_functionfactat0x7ff290e64280_6 -->\n",
       "<g id=\"node1\" class=\"node\">\n",
       "<title>factreturnvalue_functionfactat0x7ff290e64280_6</title>\n",
       "<g id=\"a_node1\"><a xlink:title=\"fact:6\">\n",
       "<polygon fill=\"peachpuff\" stroke=\"black\" points=\"142.09,-40 -0.03,-40 -0.03,0 142.09,0 142.09,-40\"/>\n",
       "<text text-anchor=\"start\" x=\"8\" y=\"-25.8\" font-family=\"Fira Mono, Courier, monospace\" font-weight=\"bold\" font-style=\"italic\" font-size=\"14.00\">&lt;fact() return value&gt;</text>\n",
       "<text text-anchor=\"start\" x=\"34.52\" y=\"-6.8\" font-family=\"Fira Mono, Courier, monospace\" font-size=\"9.00\">return n * fact(n&#45;1)</text>\n",
       "</a>\n",
       "</g>\n",
       "</g>\n",
       "<!-- n_functionfactat0x7ff290e64280_1 -->\n",
       "<g id=\"node2\" class=\"node\">\n",
       "<title>n_functionfactat0x7ff290e64280_1</title>\n",
       "<g id=\"a_node2\"><a xlink:title=\"fact:1\">\n",
       "<polygon fill=\"peachpuff\" stroke=\"black\" points=\"135.55,-344 76.51,-344 76.51,-304 135.55,-304 135.55,-344\"/>\n",
       "<text text-anchor=\"start\" x=\"102.14\" y=\"-329.8\" font-family=\"Fira Mono, Courier, monospace\" font-weight=\"bold\" font-size=\"14.00\">n</text>\n",
       "<text text-anchor=\"start\" x=\"84.52\" y=\"-310.8\" font-family=\"Fira Mono, Courier, monospace\" font-size=\"9.00\">def fact(n):</text>\n",
       "</a>\n",
       "</g>\n",
       "</g>\n",
       "<!-- n_functionfactat0x7ff290e64280_1&#45;&gt;factreturnvalue_functionfactat0x7ff290e64280_6 -->\n",
       "<g id=\"edge1\" class=\"edge\">\n",
       "<title>n_functionfactat0x7ff290e64280_1&#45;&gt;factreturnvalue_functionfactat0x7ff290e64280_6</title>\n",
       "<path fill=\"none\" stroke=\"black\" d=\"M89.47,-303.79C81.96,-293.81 73.91,-281.01 70.03,-268 47.41,-192.13 57.94,-97.23 65.56,-50.21\"/>\n",
       "<polygon fill=\"black\" stroke=\"black\" points=\"69.05,-50.57 67.28,-40.12 62.15,-49.39 69.05,-50.57\"/>\n",
       "</g>\n",
       "<!-- n_functionfactat0x7ff290e64280_1&#45;&gt;n_functionfactat0x7ff290e64280_1 -->\n",
       "<g id=\"edge9\" class=\"edge\">\n",
       "<title>n_functionfactat0x7ff290e64280_1&#45;&gt;n_functionfactat0x7ff290e64280_1</title>\n",
       "<path fill=\"none\" stroke=\"black\" d=\"M135.72,-338.25C145.62,-338.25 153.54,-333.5 153.54,-324 153.54,-318.06 150.45,-313.98 145.71,-311.75\"/>\n",
       "<polygon fill=\"black\" stroke=\"black\" points=\"146.22,-308.29 135.72,-309.75 144.84,-315.15 146.22,-308.29\"/>\n",
       "</g>\n",
       "<!-- test_functionfactat0x7ff290e64280_2 -->\n",
       "<g id=\"node3\" class=\"node\">\n",
       "<title>test_functionfactat0x7ff290e64280_2</title>\n",
       "<g id=\"a_node3\"><a xlink:title=\"fact:2\">\n",
       "<polygon fill=\"peachpuff\" stroke=\"black\" points=\"133.45,-268 78.61,-268 78.61,-228 133.45,-228 133.45,-268\"/>\n",
       "<text text-anchor=\"start\" x=\"86.57\" y=\"-253.8\" font-family=\"Fira Mono, Courier, monospace\" font-weight=\"bold\" font-style=\"italic\" font-size=\"14.00\">&lt;test&gt;</text>\n",
       "<text text-anchor=\"start\" x=\"88.52\" y=\"-234.8\" font-family=\"Fira Mono, Courier, monospace\" font-size=\"9.00\">if n == 1:</text>\n",
       "</a>\n",
       "</g>\n",
       "</g>\n",
       "<!-- n_functionfactat0x7ff290e64280_1&#45;&gt;test_functionfactat0x7ff290e64280_2 -->\n",
       "<g id=\"edge5\" class=\"edge\">\n",
       "<title>n_functionfactat0x7ff290e64280_1&#45;&gt;test_functionfactat0x7ff290e64280_2</title>\n",
       "<path fill=\"none\" stroke=\"black\" d=\"M94.05,-303.94C92.62,-296.15 92.2,-286.95 92.79,-278.34\"/>\n",
       "<polygon fill=\"black\" stroke=\"black\" points=\"96.29,-278.6 94.02,-268.25 89.34,-277.75 96.29,-278.6\"/>\n",
       "</g>\n",
       "<!-- n_functionfactat0x7ff290e64280_1&#45;&gt;test_functionfactat0x7ff290e64280_2 -->\n",
       "<!-- ret_functionfactat0x7ff290e64280_3 -->\n",
       "<g id=\"node4\" class=\"node\">\n",
       "<title>ret_functionfactat0x7ff290e64280_3</title>\n",
       "<g id=\"a_node4\"><a xlink:title=\"fact:3\">\n",
       "<polygon fill=\"peachpuff\" stroke=\"black\" points=\"197.03,-192 143.03,-192 143.03,-152 197.03,-152 197.03,-192\"/>\n",
       "<text text-anchor=\"start\" x=\"161.86\" y=\"-177.8\" font-family=\"Fira Mono, Courier, monospace\" font-weight=\"bold\" font-size=\"14.00\">ret</text>\n",
       "<text text-anchor=\"start\" x=\"157.15\" y=\"-158.8\" font-family=\"Fira Mono, Courier, monospace\" font-size=\"9.00\">ret = n</text>\n",
       "</a>\n",
       "</g>\n",
       "</g>\n",
       "<!-- n_functionfactat0x7ff290e64280_1&#45;&gt;ret_functionfactat0x7ff290e64280_3 -->\n",
       "<g id=\"edge3\" class=\"edge\">\n",
       "<title>n_functionfactat0x7ff290e64280_1&#45;&gt;ret_functionfactat0x7ff290e64280_3</title>\n",
       "<path fill=\"none\" stroke=\"black\" d=\"M131.16,-303.99C141.9,-294.43 153.47,-281.92 160.03,-268 169.7,-247.5 171.89,-221.8 171.84,-202.31\"/>\n",
       "<polygon fill=\"black\" stroke=\"black\" points=\"175.33,-202.11 171.61,-192.19 168.34,-202.27 175.33,-202.11\"/>\n",
       "</g>\n",
       "<!-- test_functionfactat0x7ff290e64280_2&#45;&gt;factreturnvalue_functionfactat0x7ff290e64280_6 -->\n",
       "<g id=\"edge2\" class=\"edge\">\n",
       "<title>test_functionfactat0x7ff290e64280_2&#45;&gt;factreturnvalue_functionfactat0x7ff290e64280_6</title>\n",
       "<path fill=\"none\" stroke=\"grey\" stroke-dasharray=\"5,2\" d=\"M103.05,-227.73C96.91,-188.12 82.85,-97.33 75.58,-50.35\"/>\n",
       "<polygon fill=\"grey\" stroke=\"grey\" points=\"79,-49.57 74.01,-40.22 72.08,-50.64 79,-49.57\"/>\n",
       "</g>\n",
       "<!-- test_functionfactat0x7ff290e64280_2&#45;&gt;n_functionfactat0x7ff290e64280_1 -->\n",
       "<g id=\"edge10\" class=\"edge\">\n",
       "<title>test_functionfactat0x7ff290e64280_2&#45;&gt;n_functionfactat0x7ff290e64280_1</title>\n",
       "<path fill=\"none\" stroke=\"grey\" stroke-dasharray=\"5,2\" d=\"M106.03,-268.25C106.03,-276.07 106.03,-285.27 106.03,-293.87\"/>\n",
       "<polygon fill=\"grey\" stroke=\"grey\" points=\"102.53,-293.94 106.03,-303.94 109.53,-293.94 102.53,-293.94\"/>\n",
       "</g>\n",
       "<!-- test_functionfactat0x7ff290e64280_2&#45;&gt;test_functionfactat0x7ff290e64280_2 -->\n",
       "<g id=\"edge6\" class=\"edge\">\n",
       "<title>test_functionfactat0x7ff290e64280_2&#45;&gt;test_functionfactat0x7ff290e64280_2</title>\n",
       "<path fill=\"none\" stroke=\"grey\" stroke-dasharray=\"5,2\" d=\"M133.55,-262.24C143.43,-262.54 151.49,-257.8 151.49,-248 151.49,-241.88 148.34,-237.73 143.57,-235.55\"/>\n",
       "<polygon fill=\"grey\" stroke=\"grey\" points=\"144.01,-232.07 133.55,-233.76 142.78,-238.97 144.01,-232.07\"/>\n",
       "</g>\n",
       "<!-- test_functionfactat0x7ff290e64280_2&#45;&gt;ret_functionfactat0x7ff290e64280_3 -->\n",
       "<g id=\"edge4\" class=\"edge\">\n",
       "<title>test_functionfactat0x7ff290e64280_2&#45;&gt;ret_functionfactat0x7ff290e64280_3</title>\n",
       "<path fill=\"none\" stroke=\"grey\" stroke-dasharray=\"5,2\" d=\"M116.52,-227.94C123.14,-219.38 131.84,-209.12 140.34,-199.8\"/>\n",
       "<polygon fill=\"grey\" stroke=\"grey\" points=\"143.12,-201.95 147.38,-192.25 138,-197.18 143.12,-201.95\"/>\n",
       "</g>\n",
       "<!-- test_functionfactat0x7ff290e64280_2&#45;&gt;ret_functionfactat0x7ff290e64280_3 -->\n",
       "<!-- factreturnvalue_functionfactat0x7ff290e64280_4 -->\n",
       "<g id=\"node5\" class=\"node\">\n",
       "<title>factreturnvalue_functionfactat0x7ff290e64280_4</title>\n",
       "<g id=\"a_node5\"><a xlink:title=\"fact:4\">\n",
       "<polygon fill=\"peachpuff\" stroke=\"black\" points=\"241.09,-116 98.97,-116 98.97,-76 241.09,-76 241.09,-116\"/>\n",
       "<text text-anchor=\"start\" x=\"107\" y=\"-101.8\" font-family=\"Fira Mono, Courier, monospace\" font-weight=\"bold\" font-style=\"italic\" font-size=\"14.00\">&lt;fact() return value&gt;</text>\n",
       "<text text-anchor=\"start\" x=\"151.77\" y=\"-82.8\" font-family=\"Fira Mono, Courier, monospace\" font-size=\"9.00\">return ret</text>\n",
       "</a>\n",
       "</g>\n",
       "</g>\n",
       "<!-- test_functionfactat0x7ff290e64280_2&#45;&gt;factreturnvalue_functionfactat0x7ff290e64280_4 -->\n",
       "<g id=\"edge8\" class=\"edge\">\n",
       "<title>test_functionfactat0x7ff290e64280_2&#45;&gt;factreturnvalue_functionfactat0x7ff290e64280_4</title>\n",
       "<path fill=\"none\" stroke=\"grey\" stroke-dasharray=\"5,2\" d=\"M109.94,-227.84C114.33,-208.22 122.41,-177.13 134.03,-152 138.37,-142.62 144.14,-133 149.79,-124.47\"/>\n",
       "<polygon fill=\"grey\" stroke=\"grey\" points=\"152.8,-126.27 155.57,-116.04 147.03,-122.31 152.8,-126.27\"/>\n",
       "</g>\n",
       "<!-- ret_functionfactat0x7ff290e64280_3&#45;&gt;factreturnvalue_functionfactat0x7ff290e64280_4 -->\n",
       "<g id=\"edge7\" class=\"edge\">\n",
       "<title>ret_functionfactat0x7ff290e64280_3&#45;&gt;factreturnvalue_functionfactat0x7ff290e64280_4</title>\n",
       "<path fill=\"none\" stroke=\"black\" d=\"M164.04,-151.94C163.32,-144.15 163.11,-134.95 163.41,-126.34\"/>\n",
       "<polygon fill=\"black\" stroke=\"black\" points=\"166.91,-126.44 164.02,-116.25 159.92,-126.02 166.91,-126.44\"/>\n",
       "</g>\n",
       "<!-- ret_functionfactat0x7ff290e64280_3&#45;&gt;factreturnvalue_functionfactat0x7ff290e64280_4 -->\n",
       "<!-- factreturnvalue_functionfactat0x7ff290e64280_4&#45;&gt;factreturnvalue_functionfactat0x7ff290e64280_6 -->\n",
       "</g>\n",
       "</svg>\n"
      ],
      "text/plain": [
       "Dependencies(\n",
       "    data={\n",
       "        ('n', (fact, 1)): {('n', (fact, 1))},\n",
       "        ('<test>', (fact, 2)): {('n', (fact, 1))},\n",
       "        ('ret', (fact, 3)): {('n', (fact, 1))},\n",
       "        ('<fact() return value>', (fact, 4)): {('ret', (fact, 3))},\n",
       "        ('<fact() return value>', (fact, 6)): {('n', (fact, 1))}},\n",
       " control={\n",
       "        ('n', (fact, 1)): {('<test>', (fact, 2))},\n",
       "        ('<test>', (fact, 2)): {('<test>', (fact, 2))},\n",
       "        ('ret', (fact, 3)): {('<test>', (fact, 2))},\n",
       "        ('<fact() return value>', (fact, 4)): {('<test>', (fact, 2))},\n",
       "        ('<fact() return value>', (fact, 6)): {('<test>', (fact, 2))}})"
      ]
     },
     "execution_count": 63,
     "metadata": {},
     "output_type": "execute_result"
    }
   ],
   "source": [
    "slicer_deps = slicer.dependencies()\n",
    "slicer_deps"
   ]
  },
  {
   "cell_type": "code",
   "execution_count": 64,
   "id": "cd58fdd5-ffa3-4cda-8b79-335dd91e9c54",
   "metadata": {},
   "outputs": [
    {
     "data": {
      "text/plain": [
       "{('<fact() return value>', (<function __main__.fact(n)>, 4)),\n",
       " ('<test>', (<function __main__.fact(n)>, 2)),\n",
       " ('n', (<function __main__.fact(n)>, 1)),\n",
       " ('ret', (<function __main__.fact(n)>, 3))}"
      ]
     },
     "execution_count": 64,
     "metadata": {},
     "output_type": "execute_result"
    }
   ],
   "source": [
    "s.all_vars()"
   ]
  },
  {
   "cell_type": "code",
   "execution_count": 27,
   "id": "90d8bcbb-c71c-4ba7-80bd-5429d597127d",
   "metadata": {},
   "outputs": [
    {
     "data": {
      "text/plain": [
       "set()"
      ]
     },
     "execution_count": 27,
     "metadata": {},
     "output_type": "execute_result"
    }
   ],
   "source": [
    "s.all_vars()"
   ]
  },
  {
   "cell_type": "code",
   "execution_count": 17,
   "id": "325b14a6-10ba-4229-b46e-49bedd0a24bb",
   "metadata": {},
   "outputs": [],
   "source": [
    "s.code()"
   ]
  },
  {
   "cell_type": "code",
   "execution_count": null,
   "id": "107e41c6-3bc4-4aa6-9557-e92675967ac2",
   "metadata": {},
   "outputs": [],
   "source": []
  }
 ],
 "metadata": {
  "kernelspec": {
   "display_name": "Python 3 (ipykernel)",
   "language": "python",
   "name": "python3"
  },
  "language_info": {
   "codemirror_mode": {
    "name": "ipython",
    "version": 3
   },
   "file_extension": ".py",
   "mimetype": "text/x-python",
   "name": "python",
   "nbconvert_exporter": "python",
   "pygments_lexer": "ipython3",
   "version": "3.9.7"
  }
 },
 "nbformat": 4,
 "nbformat_minor": 5
}
