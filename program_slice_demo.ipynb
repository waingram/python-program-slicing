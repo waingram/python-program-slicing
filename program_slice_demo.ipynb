{
 "cells": [
  {
   "cell_type": "markdown",
   "id": "6f764659",
   "metadata": {},
   "source": [
    "# Program Slice Demo  \n",
    "\n",
    "Bill Ingram  \n",
    "11/2/2021  "
   ]
  },
  {
   "cell_type": "markdown",
   "id": "2600c819",
   "metadata": {},
   "source": [
    "Below is the sample program used in  \n",
    "Frank Tip. 1995.  A survey of program slicing techniques. _J. of programming languages_ 3 (1995), 121–189."
   ]
  },
  {
   "cell_type": "code",
   "execution_count": 1,
   "id": "3ae4d931",
   "metadata": {},
   "outputs": [],
   "source": [
    "from IPython.core.magic import register_cell_magic\n",
    "\n",
    "@register_cell_magic\n",
    "def write_and_run(line, cell):\n",
    "    argz = line.split()\n",
    "    file = argz[-1]\n",
    "    mode = 'w'\n",
    "    if len(argz) == 2 and argz[0] == '-a':\n",
    "        mode = 'a'\n",
    "    with open(file, mode) as f:\n",
    "        f.write(cell)\n",
    "    get_ipython().run_cell(cell)"
   ]
  },
  {
   "cell_type": "code",
   "execution_count": 2,
   "id": "de840a87",
   "metadata": {},
   "outputs": [],
   "source": [
    "%%write_and_run execution_log.py\n",
    "###########\n",
    "# File execution log\n",
    "###########"
   ]
  },
  {
   "cell_type": "code",
   "execution_count": 3,
   "id": "1c1aed8c",
   "metadata": {},
   "outputs": [],
   "source": [
    "%%write_and_run -a execution_log.py\n",
    "n = 5"
   ]
  },
  {
   "cell_type": "code",
   "execution_count": 4,
   "id": "9d91c4a4",
   "metadata": {},
   "outputs": [],
   "source": [
    "%%write_and_run -a execution_log.py\n",
    "i = 1\n",
    "sum = 0\n",
    "prod = 1 "
   ]
  },
  {
   "cell_type": "code",
   "execution_count": 5,
   "id": "75891a45",
   "metadata": {},
   "outputs": [],
   "source": [
    "%%write_and_run -a execution_log.py\n",
    "while i <= n:\n",
    "    sum = sum + i\n",
    "    prod = prod * i\n",
    "    i = i + 1"
   ]
  },
  {
   "cell_type": "code",
   "execution_count": 6,
   "id": "0ace2ade",
   "metadata": {},
   "outputs": [
    {
     "name": "stdout",
     "output_type": "stream",
     "text": [
      "15\n",
      "120\n"
     ]
    }
   ],
   "source": [
    "%%write_and_run -a execution_log.py\n",
    "print(sum)\n",
    "print(prod)"
   ]
  },
  {
   "cell_type": "markdown",
   "id": "24c08772",
   "metadata": {},
   "source": [
    "## Debugging ##"
   ]
  },
  {
   "cell_type": "code",
   "execution_count": 7,
   "id": "765011f3",
   "metadata": {},
   "outputs": [],
   "source": [
    "# !pip install debuggingbook"
   ]
  },
  {
   "cell_type": "code",
   "execution_count": 8,
   "id": "56dc794b",
   "metadata": {},
   "outputs": [],
   "source": [
    "from SlicerHelpers import *"
   ]
  },
  {
   "cell_type": "code",
   "execution_count": 9,
   "id": "57eb2175",
   "metadata": {},
   "outputs": [
    {
     "name": "stdout",
     "output_type": "stream",
     "text": [
      "1\t###########\n",
      "\n",
      "2\t# File execution log\n",
      "\n",
      "3\t###########\n",
      "\n",
      "4\tn = 5\n",
      "\n",
      "5\ti = 1\n",
      "\n",
      "6\tsum = 0\n",
      "\n",
      "7\tprod = 1 \n",
      "\n",
      "8\twhile i <= n:\n",
      "\n",
      "9\t    sum = sum + i\n",
      "\n",
      "10\t    prod = prod * i\n",
      "\n",
      "11\t    i = i + 1\n",
      "\n",
      "12\tprint(sum)\n",
      "\n",
      "13\tprint(prod)\n",
      "\n",
      "\n"
     ]
    }
   ],
   "source": [
    "print_execution_log('execution_log.py')"
   ]
  },
  {
   "cell_type": "code",
   "execution_count": 10,
   "id": "15f65115",
   "metadata": {},
   "outputs": [
    {
     "name": "stdout",
     "output_type": "stream",
     "text": [
      "15\n",
      "120\n",
      "# Lines Kept: [ 4., 5., 7., 8.,10.,11.,13.]\n",
      "n = 5\n",
      "i = 1\n",
      "prod = 1 \n",
      "while i <= n:\n",
      "    prod = prod * i\n",
      "    i = i + 1\n",
      "print(prod)\n",
      "\n"
     ]
    },
    {
     "data": {
      "text/plain": [
       "'Slice successfully generated.'"
      ]
     },
     "execution_count": 10,
     "metadata": {},
     "output_type": "execute_result"
    }
   ],
   "source": [
    "generate_backwards_slice('execution_log.py', 13)"
   ]
  },
  {
   "cell_type": "code",
   "execution_count": 11,
   "id": "2a6e7403",
   "metadata": {},
   "outputs": [
    {
     "name": "stdout",
     "output_type": "stream",
     "text": [
      "1\tn = 2\n",
      "\n",
      "2\ti = 1\n",
      "\n",
      "3\tsum = 0\n",
      "\n",
      "4\tprod = 1 \n",
      "\n",
      "5\twhile i <= n:\n",
      "\n",
      "6\t    sum = sum + i\n",
      "\n",
      "7\t    prod = prod * i\n",
      "\n",
      "8\t    i = i + 1\n",
      "\n",
      "9\tprint(sum)\n",
      "\n",
      "10\tprint(prod)\n",
      "\n"
     ]
    }
   ],
   "source": [
    "from SlicerHelpers import *\n",
    "print_execution_log('test1.py')"
   ]
  },
  {
   "cell_type": "code",
   "execution_count": 12,
   "id": "5f4d2cf1-6d71-4320-b056-54928d948655",
   "metadata": {},
   "outputs": [
    {
     "name": "stdout",
     "output_type": "stream",
     "text": [
      "3\n",
      "2\n",
      "# Lines Kept: [ 1., 2., 4., 5., 7., 8.,10.]\n",
      "n = 2\n",
      "i = 1\n",
      "prod = 1 \n",
      "while i <= n:\n",
      "    prod = prod * i\n",
      "    i = i + 1\n",
      "print(prod)\n"
     ]
    },
    {
     "data": {
      "text/plain": [
       "'Slice successfully generated.'"
      ]
     },
     "execution_count": 12,
     "metadata": {},
     "output_type": "execute_result"
    }
   ],
   "source": [
    "generate_backwards_slice('test1.py', 10)"
   ]
  },
  {
   "cell_type": "code",
   "execution_count": 13,
   "id": "e92efa39-fdd2-4aa5-872a-518c4bc9143b",
   "metadata": {},
   "outputs": [
    {
     "name": "stdout",
     "output_type": "stream",
     "text": [
      "# Lines Kept: [ 1., 9.,12.,13.]\n",
      "n = 1\n",
      "if n > 1:\n",
      "    n = 12\n",
      "n\n"
     ]
    },
    {
     "data": {
      "text/plain": [
       "'Slice successfully generated.'"
      ]
     },
     "execution_count": 13,
     "metadata": {},
     "output_type": "execute_result"
    }
   ],
   "source": [
    "generate_backwards_slice('test3.py', 13)"
   ]
  },
  {
   "cell_type": "code",
   "execution_count": 14,
   "id": "a502d59b-047e-430b-9276-1d0624a1cf85",
   "metadata": {},
   "outputs": [
    {
     "name": "stdout",
     "output_type": "stream",
     "text": [
      "1\tn = 3\n",
      "\n",
      "2\tarr = [-4, 3, 2]\n",
      "\n",
      "3\ti = 1\n",
      "\n",
      "4\tz = 0\n",
      "\n",
      "5\twhile i <= n:\n",
      "\n",
      "6\t    x = arr[i-1]\n",
      "\n",
      "7\t    if x < 0:\n",
      "\n",
      "8\t        y = x + 1\n",
      "\n",
      "9\t    else:\n",
      "\n",
      "10\t        y = x + 2\n",
      "\n",
      "11\t    z = y\n",
      "\n",
      "12\t    i = i + 1\n",
      "\n",
      "13\tprint(z)\n",
      "\n"
     ]
    }
   ],
   "source": [
    "print_execution_log('test2.py')"
   ]
  },
  {
   "cell_type": "code",
   "execution_count": null,
   "id": "a485b971-fbc4-44a7-aa85-6781cae0e330",
   "metadata": {},
   "outputs": [],
   "source": []
  }
 ],
 "metadata": {
  "kernelspec": {
   "display_name": "Python 3 (ipykernel)",
   "language": "python",
   "name": "python3"
  },
  "language_info": {
   "codemirror_mode": {
    "name": "ipython",
    "version": 3
   },
   "file_extension": ".py",
   "mimetype": "text/x-python",
   "name": "python",
   "nbconvert_exporter": "python",
   "pygments_lexer": "ipython3",
   "version": "3.9.7"
  }
 },
 "nbformat": 4,
 "nbformat_minor": 5
}
