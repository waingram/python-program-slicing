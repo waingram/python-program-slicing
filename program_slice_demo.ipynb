{
 "cells": [
  {
   "cell_type": "markdown",
   "id": "6f764659",
   "metadata": {},
   "source": [
    "# Program Slice Demo  \n",
    "\n",
    "Bill Ingram  \n",
    "11/2/2021  "
   ]
  },
  {
   "cell_type": "markdown",
   "id": "2600c819",
   "metadata": {},
   "source": [
    "Below is the sample program used in  \n",
    "Frank Tip. 1995.  A survey of program slicing techniques. _J. of programming languages_ 3 (1995), 121–189."
   ]
  },
  {
   "cell_type": "code",
   "execution_count": 1,
   "id": "3ae4d931",
   "metadata": {},
   "outputs": [],
   "source": [
    "from IPython.core.magic import register_cell_magic\n",
    "\n",
    "@register_cell_magic\n",
    "def write_and_run(line, cell):\n",
    "    \"\"\"Write the contents of a cell to a file, but only if the execution succeeds without error. \n",
    "    \n",
    "    -a is an optional parameter, which opens the file in append mode.   \n",
    "    \n",
    "    e.g., %%write_and_run -a execution_log.py\n",
    "    \n",
    "    \"\"\"\n",
    "    argz = line.split()\n",
    "    file = argz[-1]\n",
    "    mode = 'w'\n",
    "    if len(argz) == 2 and argz[0] == '-a':\n",
    "        mode = 'a'\n",
    "        \n",
    "    result = get_ipython().run_cell(cell)\n",
    "    \n",
    "    if result.error_in_exec is None:\n",
    "        with open(file, mode) as f:\n",
    "            f.write(cell)"
   ]
  },
  {
   "cell_type": "code",
   "execution_count": 2,
   "id": "de840a87",
   "metadata": {},
   "outputs": [],
   "source": [
    "%%write_and_run execution_log.py\n",
    "###########\n",
    "# File execution log\n",
    "###########"
   ]
  },
  {
   "cell_type": "code",
   "execution_count": 3,
   "id": "1c1aed8c",
   "metadata": {},
   "outputs": [],
   "source": [
    "%%write_and_run -a execution_log.py\n",
    "n = 1"
   ]
  },
  {
   "cell_type": "code",
   "execution_count": 4,
   "id": "9d91c4a4",
   "metadata": {},
   "outputs": [],
   "source": [
    "%%write_and_run -a execution_log.py\n",
    "i = 1\n",
    "sum = 0\n",
    "prod = 1 "
   ]
  },
  {
   "cell_type": "code",
   "execution_count": 5,
   "id": "75891a45",
   "metadata": {},
   "outputs": [],
   "source": [
    "%%write_and_run -a execution_log.py\n",
    "while i <= n:\n",
    "    sum = sum + i\n",
    "    prod = prod * i\n",
    "    i = i + 1"
   ]
  },
  {
   "cell_type": "code",
   "execution_count": 6,
   "id": "0ace2ade",
   "metadata": {},
   "outputs": [],
   "source": [
    "%%write_and_run -a execution_log.py\n",
    "answer = sum"
   ]
  },
  {
   "cell_type": "code",
   "execution_count": 7,
   "id": "effbade7-8e24-430b-9234-857e2fa102a3",
   "metadata": {},
   "outputs": [],
   "source": [
    "%%write_and_run -a execution_log.py\n",
    "answer = prod"
   ]
  },
  {
   "cell_type": "markdown",
   "id": "24c08772",
   "metadata": {},
   "source": [
    "## Debugging ##"
   ]
  },
  {
   "cell_type": "code",
   "execution_count": 8,
   "id": "765011f3",
   "metadata": {},
   "outputs": [],
   "source": [
    "# !pip install debuggingbook"
   ]
  },
  {
   "cell_type": "code",
   "execution_count": 9,
   "id": "56dc794b",
   "metadata": {},
   "outputs": [],
   "source": [
    "from SlicerHelpers import *"
   ]
  },
  {
   "cell_type": "code",
   "execution_count": 10,
   "id": "57eb2175",
   "metadata": {},
   "outputs": [
    {
     "name": "stdout",
     "output_type": "stream",
     "text": [
      "1    ###########\n",
      "2    # File execution log\n",
      "3    ###########\n",
      "4    n = 1\n",
      "5    i = 1\n",
      "6    sum = 0\n",
      "7    prod = 1 \n",
      "8    while i <= n:\n",
      "9        sum = sum + i\n",
      "10        prod = prod * i\n",
      "11        i = i + 1\n",
      "12    answer = sum\n",
      "13    answer = prod\n",
      "\n"
     ]
    }
   ],
   "source": [
    "print_execution_log('execution_log.py')"
   ]
  },
  {
   "cell_type": "code",
   "execution_count": 11,
   "id": "15f65115",
   "metadata": {},
   "outputs": [
    {
     "name": "stdout",
     "output_type": "stream",
     "text": [
      "# Lines Kept: [ 4., 5., 7., 8.,10.,11.,13.]\n",
      "n = 1\n",
      "i = 1\n",
      "prod = 1 \n",
      "while i <= n:\n",
      "    prod = prod * i\n",
      "    i = i + 1\n",
      "answer = prod\n",
      "\n"
     ]
    },
    {
     "data": {
      "text/plain": [
       "'Slice successfully generated.'"
      ]
     },
     "execution_count": 11,
     "metadata": {},
     "output_type": "execute_result"
    }
   ],
   "source": [
    "generate_backwards_slice('execution_log.py', 13)"
   ]
  },
  {
   "cell_type": "code",
   "execution_count": 12,
   "id": "b8b534f0-b77f-4e9a-84db-98e076621256",
   "metadata": {},
   "outputs": [
    {
     "name": "stdout",
     "output_type": "stream",
     "text": [
      "1    n = 3\n",
      "2    i = 1\n",
      "3    sum = 0\n",
      "4    prod = 1 \n",
      "5    while i <= n:\n",
      "6        sum = sum + i\n",
      "7        prod = prod * i\n",
      "8        i = i + 1\n",
      "9    ans = sum\n",
      "10    ans = prod\n"
     ]
    }
   ],
   "source": [
    "print_execution_log('test1.py')"
   ]
  },
  {
   "cell_type": "code",
   "execution_count": 13,
   "id": "e5235f07-9259-4abc-ab52-fc7f5dbc6da5",
   "metadata": {},
   "outputs": [
    {
     "name": "stdout",
     "output_type": "stream",
     "text": [
      "# Lines Kept: [ 1., 2., 4., 5., 7., 8.,10.]\n",
      "n = 3\n",
      "i = 1\n",
      "prod = 1 \n",
      "while i <= n:\n",
      "    prod = prod * i\n",
      "    i = i + 1\n",
      "ans = prod\n"
     ]
    },
    {
     "data": {
      "text/plain": [
       "'Slice successfully generated.'"
      ]
     },
     "execution_count": 13,
     "metadata": {},
     "output_type": "execute_result"
    }
   ],
   "source": [
    "generate_backwards_slice('test1.py', 10)"
   ]
  },
  {
   "cell_type": "code",
   "execution_count": 14,
   "id": "4b97d904-36a6-42f9-929b-7c6ef7126169",
   "metadata": {},
   "outputs": [
    {
     "name": "stdout",
     "output_type": "stream",
     "text": [
      "1    n = 3\n",
      "2    z = 0\n",
      "3    if n < 3:\n",
      "4        z = 5\n",
      "5    else:\n",
      "6        z = 10\n",
      "7    ans = z \n"
     ]
    }
   ],
   "source": [
    "print_execution_log('test2.py')"
   ]
  },
  {
   "cell_type": "code",
   "execution_count": 15,
   "id": "a1980e4f-03d5-4874-adf3-f703d424f07c",
   "metadata": {},
   "outputs": [
    {
     "name": "stdout",
     "output_type": "stream",
     "text": [
      "# Lines Kept: [1.,3.,6.,7.]\n",
      "n = 3\n",
      "if n < 3:\n",
      "    z = 10\n",
      "ans = z \n"
     ]
    },
    {
     "data": {
      "text/plain": [
       "'Slice successfully generated.'"
      ]
     },
     "execution_count": 15,
     "metadata": {},
     "output_type": "execute_result"
    }
   ],
   "source": [
    "generate_backwards_slice('test2.py', 7)"
   ]
  },
  {
   "cell_type": "code",
   "execution_count": 16,
   "id": "4405130c-2892-47e0-a5be-900fcfb6cb7e",
   "metadata": {},
   "outputs": [
    {
     "name": "stdout",
     "output_type": "stream",
     "text": [
      "1    n = 1\n",
      "2    z = 0\n",
      "3    y = 0\n",
      "4    i = 1\n",
      "5    while i <= n:\n",
      "6        z = z + y\n",
      "7        y = y * y\n",
      "8        i = i + 1\n",
      "9    ans = z\n"
     ]
    }
   ],
   "source": [
    "print_execution_log('test3.py')"
   ]
  },
  {
   "cell_type": "code",
   "execution_count": 17,
   "id": "b4d65893-2220-4221-bebe-629c9087facb",
   "metadata": {},
   "outputs": [
    {
     "name": "stdout",
     "output_type": "stream",
     "text": [
      "# Lines Kept: [1.,2.,3.,4.,5.,6.,8.,9.]\n",
      "n = 1\n",
      "z = 0\n",
      "y = 0\n",
      "i = 1\n",
      "while i <= n:\n",
      "    z = z + y\n",
      "    i = i + 1\n",
      "ans = z\n"
     ]
    },
    {
     "data": {
      "text/plain": [
       "'Slice successfully generated.'"
      ]
     },
     "execution_count": 17,
     "metadata": {},
     "output_type": "execute_result"
    }
   ],
   "source": [
    "generate_backwards_slice('test3.py', 9)"
   ]
  },
  {
   "cell_type": "code",
   "execution_count": null,
   "id": "e90b79b4-1a01-4fc7-9973-d956879af72e",
   "metadata": {},
   "outputs": [],
   "source": []
  }
 ],
 "metadata": {
  "kernelspec": {
   "display_name": "Python 3 (ipykernel)",
   "language": "python",
   "name": "python3"
  },
  "language_info": {
   "codemirror_mode": {
    "name": "ipython",
    "version": 3
   },
   "file_extension": ".py",
   "mimetype": "text/x-python",
   "name": "python",
   "nbconvert_exporter": "python",
   "pygments_lexer": "ipython3",
   "version": "3.9.7"
  }
 },
 "nbformat": 4,
 "nbformat_minor": 5
}
