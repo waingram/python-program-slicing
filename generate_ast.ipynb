{
 "cells": [
  {
   "cell_type": "markdown",
   "id": "0b592f68",
   "metadata": {},
   "source": [
    "# Generate AST\n",
    "\n",
    "Bill Ingram <waingram@vt.edu>  \n",
    "October 5, 2021 \n",
    "  \n",
    "This notebook generates an abstract syntax tree (AST) from a given Python program. "
   ]
  },
  {
   "cell_type": "code",
   "execution_count": 1,
   "id": "394ec150",
   "metadata": {},
   "outputs": [],
   "source": [
    "import ast"
   ]
  },
  {
   "cell_type": "code",
   "execution_count": 2,
   "id": "3702f2d1",
   "metadata": {},
   "outputs": [],
   "source": [
    "# with open('execution_log.py', 'r') as source:\n",
    "#     tree = ast.parse(source.read())\n",
    "    \n",
    "def parse_file(filename):\n",
    "    with open(filename) as f:\n",
    "        return ast.parse(f.read(), filename=filename)"
   ]
  },
  {
   "cell_type": "code",
   "execution_count": 1,
   "id": "dee27cb8-4a99-46f0-98bb-205b687ae438",
   "metadata": {},
   "outputs": [
    {
     "name": "stdout",
     "output_type": "stream",
     "text": [
      "3.8.8\n"
     ]
    }
   ],
   "source": [
    "from platform import python_version\n",
    "\n",
    "print(python_version())"
   ]
  },
  {
   "cell_type": "code",
   "execution_count": 2,
   "id": "f45e089b-3dcc-4aff-bcf5-a623dbe6be03",
   "metadata": {},
   "outputs": [
    {
     "name": "stdout",
     "output_type": "stream",
     "text": [
      "\n",
      "     active environment : python-program-slicing\n",
      "    active env location : /usr/local/anaconda3/envs/python-program-slicing\n",
      "            shell level : 2\n",
      "       user config file : /Users/waingram/.condarc\n",
      " populated config files : /Users/waingram/.condarc\n",
      "          conda version : 4.10.3\n",
      "    conda-build version : 3.21.4\n",
      "         python version : 3.8.8.final.0\n",
      "       virtual packages : __osx=10.16=0\n",
      "                          __unix=0=0\n",
      "                          __archspec=1=x86_64\n",
      "       base environment : /usr/local/anaconda3  (writable)\n",
      "      conda av data dir : /usr/local/anaconda3/etc/conda\n",
      "  conda av metadata url : None\n",
      "           channel URLs : https://repo.anaconda.com/pkgs/main/osx-64\n",
      "                          https://repo.anaconda.com/pkgs/main/noarch\n",
      "                          https://repo.anaconda.com/pkgs/r/osx-64\n",
      "                          https://repo.anaconda.com/pkgs/r/noarch\n",
      "          package cache : /usr/local/anaconda3/pkgs\n",
      "                          /Users/waingram/.conda/pkgs\n",
      "       envs directories : /usr/local/anaconda3/envs\n",
      "                          /Users/waingram/.conda/envs\n",
      "               platform : osx-64\n",
      "             user-agent : conda/4.10.3 requests/2.26.0 CPython/3.8.8 Darwin/20.6.0 OSX/10.16\n",
      "                UID:GID : 502:20\n",
      "             netrc file : None\n",
      "           offline mode : False\n",
      "\n"
     ]
    }
   ],
   "source": [
    "!conda info"
   ]
  },
  {
   "cell_type": "code",
   "execution_count": 4,
   "id": "cea9d23b",
   "metadata": {},
   "outputs": [
    {
     "ename": "TypeError",
     "evalue": "dump() got an unexpected keyword argument 'indent'",
     "output_type": "error",
     "traceback": [
      "\u001b[0;31m---------------------------------------------------------------------------\u001b[0m",
      "\u001b[0;31mTypeError\u001b[0m                                 Traceback (most recent call last)",
      "\u001b[0;32m/var/folders/kp/03rd6_8x1835gg33z1lg18vm0000gp/T/ipykernel_3756/3349542944.py\u001b[0m in \u001b[0;36m<module>\u001b[0;34m\u001b[0m\n\u001b[1;32m      1\u001b[0m \u001b[0mtree\u001b[0m \u001b[0;34m=\u001b[0m \u001b[0mparse_file\u001b[0m\u001b[0;34m(\u001b[0m\u001b[0;34m'execution_log.py'\u001b[0m\u001b[0;34m)\u001b[0m\u001b[0;34m\u001b[0m\u001b[0;34m\u001b[0m\u001b[0m\n\u001b[0;32m----> 2\u001b[0;31m \u001b[0mprint\u001b[0m\u001b[0;34m(\u001b[0m\u001b[0mast\u001b[0m\u001b[0;34m.\u001b[0m\u001b[0mdump\u001b[0m\u001b[0;34m(\u001b[0m\u001b[0mtree\u001b[0m\u001b[0;34m,\u001b[0m \u001b[0mindent\u001b[0m\u001b[0;34m=\u001b[0m\u001b[0;36m2\u001b[0m\u001b[0;34m)\u001b[0m\u001b[0;34m)\u001b[0m\u001b[0;34m\u001b[0m\u001b[0;34m\u001b[0m\u001b[0m\n\u001b[0m",
      "\u001b[0;31mTypeError\u001b[0m: dump() got an unexpected keyword argument 'indent'"
     ]
    }
   ],
   "source": [
    "tree = parse_file('execution_log.py')\n",
    "print(ast.dump(tree, indent=2))"
   ]
  },
  {
   "cell_type": "code",
   "execution_count": null,
   "id": "0c6f5527",
   "metadata": {},
   "outputs": [],
   "source": []
  }
 ],
 "metadata": {
  "kernelspec": {
   "display_name": "python-program-slicing",
   "language": "python",
   "name": "python-program-slicing"
  },
  "language_info": {
   "codemirror_mode": {
    "name": "ipython",
    "version": 3
   },
   "file_extension": ".py",
   "mimetype": "text/x-python",
   "name": "python",
   "nbconvert_exporter": "python",
   "pygments_lexer": "ipython3",
   "version": "3.8.8"
  }
 },
 "nbformat": 4,
 "nbformat_minor": 5
}
